{
 "cells": [
  {
   "cell_type": "markdown",
   "id": "8e04f564-fd90-4cd2-81a1-b9cce5123375",
   "metadata": {},
   "source": [
    "# Data Science Tools and Ecosystem"
   ]
  },
  {
   "cell_type": "markdown",
   "id": "78b3cb07-3c42-49b8-a6df-fd35a654fe59",
   "metadata": {},
   "source": [
    "## In this notebook, Data Science Tools and Ecosystem are summarized."
   ]
  },
  {
   "cell_type": "markdown",
   "id": "980f0b4c-564f-412a-be32-b604b1462300",
   "metadata": {},
   "source": [
    "Some of the popular languages that Data Scientists use are:\n"
   ]
  },
  {
   "cell_type": "markdown",
   "id": "d8b52d81-c2e6-450d-9011-a21bf6e0dec4",
   "metadata": {},
   "source": [
    "1. Julia\n",
    "2. Python\n",
    "3. R "
   ]
  },
  {
   "cell_type": "markdown",
   "id": "bd640d94-bbe7-4092-bf8f-fc94b4b3d44a",
   "metadata": {},
   "source": [
    "Some of the commonly used libraries used by Data Scientists include:"
   ]
  },
  {
   "cell_type": "markdown",
   "id": "07c5a0c7-192d-4d77-80ff-d4919b7e6323",
   "metadata": {},
   "source": [
    "1. Scikit-learn\n",
    "2. Numpy\n",
    "3. Pandas"
   ]
  },
  {
   "cell_type": "markdown",
   "id": "ecfaa6e1-d71d-42c8-8301-fcc89cfdfed2",
   "metadata": {},
   "source": [
    "<table ><tr><th >Data Science Tools</th><tr><tr>\n",
    "<tr>\n",
    "    <td>Spyder</td>\n",
    "</tr>\n",
    "<tr>\n",
    "    <td>R-Studio</td>\n",
    "</tr>\n",
    "<tr>\n",
    "    <td>Anaconda</td>\n",
    "</tr>\n",
    "</table>"
   ]
  },
  {
   "cell_type": "markdown",
   "id": "bfd322a2-4b28-4c7d-8b38-89e15678c4d5",
   "metadata": {},
   "source": [
    "### Below are a few examples of evaluating arithmetic expressions in Python"
   ]
  },
  {
   "cell_type": "code",
   "execution_count": 2,
   "id": "1d313897-31e2-4639-9402-d80ca041b0da",
   "metadata": {},
   "outputs": [
    {
     "data": {
      "text/plain": [
       "17"
      ]
     },
     "execution_count": 2,
     "metadata": {},
     "output_type": "execute_result"
    }
   ],
   "source": [
    "# This a simple arithmetic expression to mutiply then add integers\n",
    "(3*4)+5"
   ]
  },
  {
   "cell_type": "code",
   "execution_count": 3,
   "id": "f3ecf42f-49c2-460f-848c-5434c0da634c",
   "metadata": {},
   "outputs": [
    {
     "data": {
      "text/plain": [
       "3.33"
      ]
     },
     "execution_count": 3,
     "metadata": {},
     "output_type": "execute_result"
    }
   ],
   "source": [
    "# This will convert 200 minutes to hours by diving by 60.\n",
    "round(200/60, 2)"
   ]
  },
  {
   "cell_type": "markdown",
   "id": "904d4150-980e-4d14-aba9-f2dc7e6ad8e0",
   "metadata": {},
   "source": [
    "**Objective**"
   ]
  },
  {
   "cell_type": "markdown",
   "id": "fdf4bb5e-0958-41e6-8096-cf1c8efbbf2d",
   "metadata": {},
   "source": [
    "* Add comments in between the code as explanation\n",
    "* For adding explanation, add markdown cells\n",
    "* Add ordered & unordered list in markdown cells\n",
    "* Format content with heading styles"
   ]
  },
  {
   "cell_type": "markdown",
   "id": "11cf3177-7b65-4e2a-96ae-9b6efa95003a",
   "metadata": {},
   "source": [
    "## **Author**\n",
    "Akshat"
   ]
  },
  {
   "cell_type": "code",
   "execution_count": 4,
   "id": "1955b672-8052-4937-be05-14e9db61dd0c",
   "metadata": {},
   "outputs": [
    {
     "ename": "SyntaxError",
     "evalue": "invalid syntax (1907421532.py, line 1)",
     "output_type": "error",
     "traceback": [
      "\u001b[0;36m  Cell \u001b[0;32mIn[4], line 1\u001b[0;36m\u001b[0m\n\u001b[0;31m    **Objectives:**\u001b[0m\n\u001b[0m    ^\u001b[0m\n\u001b[0;31mSyntaxError\u001b[0m\u001b[0;31m:\u001b[0m invalid syntax\n"
     ]
    }
   ],
   "source": [
    "**Objectives:**\n",
    "\n",
    "- List popular languages for Data Science.\n",
    "  <!-- Provide an overview of commonly used programming languages in the field of Data Science, such as Python, R, and Julia. Discuss their strengths and typical use cases in data analysis, machine learning, and statistical computing. -->\n",
    "  \n",
    "- Introduce common libraries used in Data Science.\n",
    "  <!-- Explain the importance and usage of key libraries that are fundamental in Data Science projects, such as NumPy, Pandas, Matplotlib, and Scikit-learn. Describe their roles in data manipulation, visualization, and machine learning model development. -->\n",
    "  \n",
    "- Demonstrate creation of tables in markdown cells.\n",
    "  <!-- Show how to format and display tabular data using Markdown syntax within Jupyter notebooks. Provide examples of creating tables with headers and multiple rows to organize information effectively. -->\n",
    "  \n",
    "- Illustrate evaluation of arithmetic expressions in Python.\n",
    "  <!-- Provide examples and methods to perform basic arithmetic operations in Python programming language. Cover addition, subtraction, multiplication, division, exponentiation, and modulus operations with clear explanations and sample calculations. -->"
   ]
  },
  {
   "cell_type": "code",
   "execution_count": null,
   "id": "4893103b-e4d5-4dfc-966c-c61ae7b64fe2",
   "metadata": {},
   "outputs": [],
   "source": []
  }
 ],
 "metadata": {
  "kernelspec": {
   "display_name": "Python 3 (ipykernel)",
   "language": "python",
   "name": "python3"
  },
  "language_info": {
   "codemirror_mode": {
    "name": "ipython",
    "version": 3
   },
   "file_extension": ".py",
   "mimetype": "text/x-python",
   "name": "python",
   "nbconvert_exporter": "python",
   "pygments_lexer": "ipython3",
   "version": "3.11.7"
  }
 },
 "nbformat": 4,
 "nbformat_minor": 5
}
