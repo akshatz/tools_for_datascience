{
 "cells": [
  {
   "cell_type": "markdown",
   "id": "8e04f564-fd90-4cd2-81a1-b9cce5123375",
   "metadata": {},
   "source": [
    "# Data Science Tools and Ecosystem"
   ]
  },
  {
   "cell_type": "markdown",
   "id": "78b3cb07-3c42-49b8-a6df-fd35a654fe59",
   "metadata": {},
   "source": [
    "## In this notebook, Data Science Tools and Ecosystem are summarized."
   ]
  },
  {
   "cell_type": "markdown",
   "id": "980f0b4c-564f-412a-be32-b604b1462300",
   "metadata": {},
   "source": [
    "Some of the popular languages that Data Scientists use are:\n"
   ]
  },
  {
   "cell_type": "markdown",
   "id": "d8b52d81-c2e6-450d-9011-a21bf6e0dec4",
   "metadata": {},
   "source": [
    "1. Julia\n",
    "2. Python\n",
    "3. R "
   ]
  },
  {
   "cell_type": "markdown",
   "id": "bd640d94-bbe7-4092-bf8f-fc94b4b3d44a",
   "metadata": {},
   "source": [
    "Some of the commonly used libraries used by Data Scientists include:\n",
    "1. Sci-kit learn\n",
    "2. Numpy\n",
    "3. Pandas\n",
    "\n"
   ]
  },
  {
   "cell_type": "markdown",
   "id": "ecfaa6e1-d71d-42c8-8301-fcc89cfdfed2",
   "metadata": {},
   "source": [
    "<table ><tr><th >Data Science Tools</th><tr><tr>\n",
    "<tr>\n",
    "    <td>Spyder</td>\n",
    "</tr>\n",
    "<tr>\n",
    "    <td>R-Studio</td>\n",
    "</tr>\n",
    "<tr>\n",
    "    <td>Anaconda</td>\n",
    "</tr>\n",
    "</table>"
   ]
  },
  {
   "cell_type": "markdown",
   "id": "bfd322a2-4b28-4c7d-8b38-89e15678c4d5",
   "metadata": {},
   "source": [
    "### Below are a few examples of evaluating arithmetic expressions in Python"
   ]
  },
  {
   "cell_type": "code",
   "execution_count": 2,
   "id": "1d313897-31e2-4639-9402-d80ca041b0da",
   "metadata": {},
   "outputs": [
    {
     "data": {
      "text/plain": [
       "17"
      ]
     },
     "execution_count": 2,
     "metadata": {},
     "output_type": "execute_result"
    }
   ],
   "source": [
    "# This a simple arithmetic expression to mutiply then add integers\n",
    "(3*4)+5"
   ]
  },
  {
   "cell_type": "markdown",
   "id": "55939155-b65b-42c6-a3bd-2210f04c585e",
   "metadata": {},
   "source": []
  },
  {
   "cell_type": "code",
   "execution_count": 3,
   "id": "f3ecf42f-49c2-460f-848c-5434c0da634c",
   "metadata": {},
   "outputs": [
    {
     "data": {
      "text/plain": [
       "3.33"
      ]
     },
     "execution_count": 3,
     "metadata": {},
     "output_type": "execute_result"
    }
   ],
   "source": [
    "# This will convert 200 minutes to hours by diving by 60.\n",
    "round(200/60, 2)"
   ]
  },
  {
   "cell_type": "markdown",
   "id": "036f933b-a600-4595-bb2f-1d1cbe230e55",
   "metadata": {},
   "source": []
  },
  {
   "cell_type": "markdown",
   "id": "904d4150-980e-4d14-aba9-f2dc7e6ad8e0",
   "metadata": {},
   "source": [
    "**Objective**"
   ]
  },
  {
   "cell_type": "markdown",
   "id": "fdf4bb5e-0958-41e6-8096-cf1c8efbbf2d",
   "metadata": {},
   "source": [
    "* Add comments in between the code as explanation\n",
    "* For adding explanation, add markdown cells\n",
    "* Add ordered & unordered list in markdown cells\n",
    "* Format content with heading styles"
   ]
  },
  {
   "cell_type": "markdown",
   "id": "11cf3177-7b65-4e2a-96ae-9b6efa95003a",
   "metadata": {},
   "source": [
    "## **Author**\n",
    "Akshat"
   ]
  }
 ],
 "metadata": {
  "kernelspec": {
   "display_name": "Python 3 (ipykernel)",
   "language": "python",
   "name": "python3"
  },
  "language_info": {
   "codemirror_mode": {
    "name": "ipython",
    "version": 3
   },
   "file_extension": ".py",
   "mimetype": "text/x-python",
   "name": "python",
   "nbconvert_exporter": "python",
   "pygments_lexer": "ipython3",
   "version": "3.11.7"
  }
 },
 "nbformat": 4,
 "nbformat_minor": 5
}
